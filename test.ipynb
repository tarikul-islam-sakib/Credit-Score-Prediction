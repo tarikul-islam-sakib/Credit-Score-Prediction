{
 "cells": [
  {
   "cell_type": "code",
   "execution_count": 22,
   "id": "bdf22a8f",
   "metadata": {},
   "outputs": [],
   "source": [
    "import pickle\n",
    "model = pickle.load(open(\"model.pkl\",\"rb\"))\n",
    "with open('std.pkl', 'rb') as f:\n",
    "    scaler = pickle.load(f)\n",
    "with open('feature.pkl', 'rb') as f:\n",
    "    feature_selector = pickle.load(f)"
   ]
  },
  {
   "cell_type": "code",
   "execution_count": 23,
   "id": "3ffbc3f4",
   "metadata": {},
   "outputs": [
    {
     "data": {
      "text/plain": [
       "array(['Good'], dtype=object)"
      ]
     },
     "execution_count": 23,
     "metadata": {},
     "output_type": "execute_result"
    }
   ],
   "source": [
    "pred= model.predict([[0.84732,\t1.409569,\t-1.215932,\t-0.940144,\t-1.067562,\t-0.58149,\t-0.230434]])\n",
    "pred"
   ]
  },
  {
   "cell_type": "code",
   "execution_count": 24,
   "id": "8d341109",
   "metadata": {},
   "outputs": [
    {
     "data": {
      "text/plain": [
       "array(['Standard'], dtype=object)"
      ]
     },
     "execution_count": 24,
     "metadata": {},
     "output_type": "execute_result"
    }
   ],
   "source": [
    "pred1= model.predict(scaler.fit_transform([[12,\t244,\t3,\t0.0,\t26.822620,\t1,\t3]]))\n",
    "pred1"
   ]
  },
  {
   "cell_type": "code",
   "execution_count": 25,
   "id": "a587e9a7",
   "metadata": {},
   "outputs": [
    {
     "name": "stdout",
     "output_type": "stream",
     "text": [
      "['Standard']\n"
     ]
    }
   ],
   "source": [
    "\n",
    "pred1 = model.predict(scaler.transform([[12, 244, 3, 0.0, 26.822620, 1, 3]]))\n",
    "print(pred1)"
   ]
  },
  {
   "cell_type": "code",
   "execution_count": null,
   "id": "a3044d91",
   "metadata": {},
   "outputs": [],
   "source": []
  }
 ],
 "metadata": {
  "kernelspec": {
   "display_name": "Python 3",
   "language": "python",
   "name": "python3"
  },
  "language_info": {
   "codemirror_mode": {
    "name": "ipython",
    "version": 3
   },
   "file_extension": ".py",
   "mimetype": "text/x-python",
   "name": "python",
   "nbconvert_exporter": "python",
   "pygments_lexer": "ipython3",
   "version": "3.13.2"
  }
 },
 "nbformat": 4,
 "nbformat_minor": 5
}
